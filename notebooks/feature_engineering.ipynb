{
 "cells": [
  {
   "cell_type": "code",
   "execution_count": 294,
   "metadata": {},
   "outputs": [],
   "source": [
    "# 📌 Importar librerías necesarias\n",
    "import pandas as pd\n",
    "import joblib\n",
    "from sklearn.preprocessing import LabelEncoder, OneHotEncoder, MinMaxScaler"
   ]
  },
  {
   "cell_type": "code",
   "execution_count": 295,
   "metadata": {},
   "outputs": [],
   "source": [
    "# 📌 Definir ruta del dataset limpio\n",
    "data_path = \"../data/final/sri_autos_final.csv\"\n",
    "output_path = \"../data/final/sri_autos_features.csv\""
   ]
  },
  {
   "cell_type": "code",
   "execution_count": 296,
   "metadata": {},
   "outputs": [],
   "source": [
    "# 📌 Cargar el dataset limpio\n",
    "df = pd.read_csv(data_path, delimiter=';', encoding=\"latin-1\", low_memory=False)"
   ]
  },
  {
   "cell_type": "code",
   "execution_count": null,
   "metadata": {},
   "outputs": [],
   "source": []
  },
  {
   "cell_type": "code",
   "execution_count": 297,
   "metadata": {},
   "outputs": [],
   "source": [
    "# 📌 Aplicar Label Encoding en variables categóricas principales\n",
    "label_columns = [\"modelo\", \"marca\", \"pais\", \"clase\", \"sub_clase\", \"tipo\",\"tipo_combustible\"]\n",
    "label_encoders = {}\n"
   ]
  },
  {
   "cell_type": "code",
   "execution_count": 298,
   "metadata": {},
   "outputs": [
    {
     "name": "stdout",
     "output_type": "stream",
     "text": [
      "✅ Label Encoders guardados correctamente.\n"
     ]
    }
   ],
   "source": [
    "for col in label_columns:\n",
    "    encoder = LabelEncoder()\n",
    "    df[col] = encoder.fit_transform(df[col].astype(str))  # Convertir a string antes de codificar\n",
    "    label_encoders[col] = encoder  # Guardar el encoder\n",
    "\n",
    "    # 📌 Guardar el encoder en un archivo para reutilizar en la predicción\n",
    "    joblib.dump(encoder, f\"../models/encoders/label_encoder_{col}.pkl\")\n",
    "\n",
    "print(\"✅ Label Encoders guardados correctamente.\")\n",
    "\n"
   ]
  },
  {
   "cell_type": "code",
   "execution_count": 299,
   "metadata": {},
   "outputs": [],
   "source": [
    "# 📌 Normalización de `avaluo` y `cilindraje` con Min-Max Scaling\n",
    "#scaler = MinMaxScaler()\n",
    "#df[[\"avaluo\", \"cilindraje\"]] = scaler.fit_transform(df[[\"avaluo\", \"cilindraje\"]])\n",
    "\n",
    "\n",
    "# 📌 Guardar el escalador para usarlo en la predicción\n",
    "#scaler_path = \"../models/encoders/scaler.pkl\"\n",
    "#joblib.dump(scaler, scaler_path)\n",
    "\n",
    "#print(f\"✅ Escalador guardado en {scaler_path}\")"
   ]
  },
  {
   "cell_type": "code",
   "execution_count": 300,
   "metadata": {},
   "outputs": [],
   "source": [
    "# 📌 Guardar el dataset limpio\n",
    "\n",
    "df.to_csv(output_path, index=False, sep=';')"
   ]
  },
  {
   "cell_type": "code",
   "execution_count": 301,
   "metadata": {},
   "outputs": [
    {
     "name": "stdout",
     "output_type": "stream",
     "text": [
      "✅ Número final de columnas: 10\n"
     ]
    }
   ],
   "source": [
    "# 📌 Mostrar cantidad de columnas finales\n",
    "print(f\"✅ Número final de columnas: {df.shape[1]}\")\n",
    "\n"
   ]
  },
  {
   "cell_type": "code",
   "execution_count": 302,
   "metadata": {},
   "outputs": [
    {
     "data": {
      "text/html": [
       "<div>\n",
       "<style scoped>\n",
       "    .dataframe tbody tr th:only-of-type {\n",
       "        vertical-align: middle;\n",
       "    }\n",
       "\n",
       "    .dataframe tbody tr th {\n",
       "        vertical-align: top;\n",
       "    }\n",
       "\n",
       "    .dataframe thead th {\n",
       "        text-align: right;\n",
       "    }\n",
       "</style>\n",
       "<table border=\"1\" class=\"dataframe\">\n",
       "  <thead>\n",
       "    <tr style=\"text-align: right;\">\n",
       "      <th></th>\n",
       "      <th>marca</th>\n",
       "      <th>modelo</th>\n",
       "      <th>pais</th>\n",
       "      <th>year_modelo</th>\n",
       "      <th>clase</th>\n",
       "      <th>sub_clase</th>\n",
       "      <th>tipo</th>\n",
       "      <th>avaluo</th>\n",
       "      <th>cilindraje</th>\n",
       "      <th>tipo_combustible</th>\n",
       "    </tr>\n",
       "  </thead>\n",
       "  <tbody>\n",
       "    <tr>\n",
       "      <th>0</th>\n",
       "      <td>55</td>\n",
       "      <td>1634</td>\n",
       "      <td>11</td>\n",
       "      <td>2018</td>\n",
       "      <td>2</td>\n",
       "      <td>22</td>\n",
       "      <td>0</td>\n",
       "      <td>29990.0</td>\n",
       "      <td>2999</td>\n",
       "      <td>0</td>\n",
       "    </tr>\n",
       "    <tr>\n",
       "      <th>1</th>\n",
       "      <td>334</td>\n",
       "      <td>5704</td>\n",
       "      <td>18</td>\n",
       "      <td>2018</td>\n",
       "      <td>0</td>\n",
       "      <td>48</td>\n",
       "      <td>0</td>\n",
       "      <td>25990.0</td>\n",
       "      <td>1586</td>\n",
       "      <td>3</td>\n",
       "    </tr>\n",
       "    <tr>\n",
       "      <th>2</th>\n",
       "      <td>55</td>\n",
       "      <td>1657</td>\n",
       "      <td>11</td>\n",
       "      <td>2018</td>\n",
       "      <td>2</td>\n",
       "      <td>7</td>\n",
       "      <td>0</td>\n",
       "      <td>27470.0</td>\n",
       "      <td>2499</td>\n",
       "      <td>0</td>\n",
       "    </tr>\n",
       "    <tr>\n",
       "      <th>3</th>\n",
       "      <td>55</td>\n",
       "      <td>5631</td>\n",
       "      <td>11</td>\n",
       "      <td>2018</td>\n",
       "      <td>0</td>\n",
       "      <td>47</td>\n",
       "      <td>0</td>\n",
       "      <td>19490.0</td>\n",
       "      <td>1485</td>\n",
       "      <td>3</td>\n",
       "    </tr>\n",
       "    <tr>\n",
       "      <th>4</th>\n",
       "      <td>334</td>\n",
       "      <td>3045</td>\n",
       "      <td>11</td>\n",
       "      <td>2018</td>\n",
       "      <td>4</td>\n",
       "      <td>37</td>\n",
       "      <td>0</td>\n",
       "      <td>27990.0</td>\n",
       "      <td>1995</td>\n",
       "      <td>3</td>\n",
       "    </tr>\n",
       "  </tbody>\n",
       "</table>\n",
       "</div>"
      ],
      "text/plain": [
       "   marca  modelo  pais  year_modelo  clase  sub_clase  tipo   avaluo  \\\n",
       "0     55    1634    11         2018      2         22     0  29990.0   \n",
       "1    334    5704    18         2018      0         48     0  25990.0   \n",
       "2     55    1657    11         2018      2          7     0  27470.0   \n",
       "3     55    5631    11         2018      0         47     0  19490.0   \n",
       "4    334    3045    11         2018      4         37     0  27990.0   \n",
       "\n",
       "   cilindraje  tipo_combustible  \n",
       "0        2999                 0  \n",
       "1        1586                 3  \n",
       "2        2499                 0  \n",
       "3        1485                 3  \n",
       "4        1995                 3  "
      ]
     },
     "execution_count": 302,
     "metadata": {},
     "output_type": "execute_result"
    }
   ],
   "source": [
    "# 📌 Mostrar vista previa del dataset transformado\n",
    "df.head()"
   ]
  }
 ],
 "metadata": {
  "kernelspec": {
   "display_name": "Python 3",
   "language": "python",
   "name": "python3"
  },
  "language_info": {
   "codemirror_mode": {
    "name": "ipython",
    "version": 3
   },
   "file_extension": ".py",
   "mimetype": "text/x-python",
   "name": "python",
   "nbconvert_exporter": "python",
   "pygments_lexer": "ipython3",
   "version": "3.12.3"
  }
 },
 "nbformat": 4,
 "nbformat_minor": 2
}
