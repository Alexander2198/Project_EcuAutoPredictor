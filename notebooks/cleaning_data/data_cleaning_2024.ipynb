{
 "cells": [
  {
   "cell_type": "code",
   "execution_count": 1,
   "metadata": {},
   "outputs": [],
   "source": [
    "# Importar librerías necesarias\n",
    "import pandas as pd\n",
    "import re\n",
    "import os"
   ]
  },
  {
   "cell_type": "code",
   "execution_count": 2,
   "metadata": {},
   "outputs": [],
   "source": [
    "# 📌 Definir la ruta del archivo 2017\n",
    "data_folder = \"../data/raw/\"  # Carpeta donde están los CSV\n",
    "file_ = \"SRI_Vehiculos_Nuevos_2024.csv\"\n",
    "file_path = os.path.join(data_folder, file_)\n"
   ]
  },
  {
   "cell_type": "code",
   "execution_count": 3,
   "metadata": {},
   "outputs": [],
   "source": [
    "# 📌 Intentar leer el archivo con diferentes codificaciones\n",
    "try:\n",
    "    df_ = pd.read_csv(file_path, delimiter=';', encoding=\"latin-1\", on_bad_lines='skip', low_memory=False)\n",
    "except UnicodeDecodeError:\n",
    "    df_ = pd.read_csv(file_path, delimiter=';', encoding=\"ISO-8859-1\", on_bad_lines='skip', low_memory=False)\n",
    "\n"
   ]
  },
  {
   "cell_type": "code",
   "execution_count": 4,
   "metadata": {},
   "outputs": [
    {
     "name": "stdout",
     "output_type": "stream",
     "text": [
      "📌 Columnas en el dataset de 2020:\n",
      "Index(['MARCA', 'MODELO', 'PAIS', 'YEAR MODELO', 'CLASE', 'SUB CLASE', 'TIPO',\n",
      "       'AVALUO', 'CILINDRAJE', 'TIPO COMBUSTIBLE', 'COLOR '],\n",
      "      dtype='object')\n"
     ]
    }
   ],
   "source": [
    "# 📌 Mostrar las columnas disponibles en el dataset de 2017\n",
    "print(\"📌 Columnas en el dataset de 2020:\")\n",
    "print(df_.columns)"
   ]
  },
  {
   "cell_type": "code",
   "execution_count": 5,
   "metadata": {},
   "outputs": [],
   "source": [
    "# 📌 Renombrar columnas para que coincidan con el formato de 2024\n",
    "column_mappings_ = {\n",
    "    \"MARCA\": \"marca\",\n",
    "    \"MODELO\": \"modelo\",\n",
    "    \"PAIS\": \"pais\",\n",
    "    \"YEAR MODELO\": \"year_modelo\",\n",
    "    \"CLASE\": \"clase\",\n",
    "    \"SUB CLASE\": \"sub_clase\",\n",
    "    \"TIPO\": \"tipo\",\n",
    "    \"AVALUO\": \"avaluo\",\n",
    "    \"CILINDRAJE\": \"cilindraje\",\n",
    "    \"TIPO COMBUSTIBLE\": \"tipo_combustible\",\n",
    "    \"COLOR \": \"color\",\n",
    "}\n",
    "\n",
    "df_.rename(columns=column_mappings_, inplace=True)"
   ]
  },
  {
   "cell_type": "code",
   "execution_count": 6,
   "metadata": {},
   "outputs": [],
   "source": [
    "# 📌 Seleccionar solo las columnas necesarias\n",
    "columnas_necesarias = ['marca', 'modelo', 'pais', 'year_modelo', 'clase', 'sub_clase', \n",
    "                        'tipo', 'avaluo', 'cilindraje', 'tipo_combustible', 'color']\n"
   ]
  },
  {
   "cell_type": "code",
   "execution_count": 7,
   "metadata": {},
   "outputs": [],
   "source": [
    "# 📌 Filtrar las columnas que existen en el dataset\n",
    "columnas_existentes = [col for col in columnas_necesarias if col in df_.columns]\n",
    "df_ = df_[columnas_existentes].copy()"
   ]
  },
  {
   "cell_type": "code",
   "execution_count": 8,
   "metadata": {},
   "outputs": [],
   "source": [
    "# 📌 Eliminar duplicados basados en \"modelo\", \"year\", \"avaluo\", \"cilindraje\"\n",
    "df_.drop_duplicates(subset=[\"modelo\", \"year_modelo\", \"avaluo\", \"cilindraje\"], keep=\"first\", inplace=True)\n"
   ]
  },
  {
   "cell_type": "code",
   "execution_count": 9,
   "metadata": {},
   "outputs": [],
   "source": [
    "# 📌 Guardar el dataset limpio\n",
    "output_path = \"../data/processed/SRI_Vehiculos_Nuevos_2024_Limpio.csv\"\n",
    "os.makedirs(\"../data/processed/\", exist_ok=True)\n",
    "df_.to_csv(output_path, index=False, sep=';')"
   ]
  },
  {
   "cell_type": "code",
   "execution_count": 10,
   "metadata": {},
   "outputs": [
    {
     "data": {
      "text/html": [
       "<div>\n",
       "<style scoped>\n",
       "    .dataframe tbody tr th:only-of-type {\n",
       "        vertical-align: middle;\n",
       "    }\n",
       "\n",
       "    .dataframe tbody tr th {\n",
       "        vertical-align: top;\n",
       "    }\n",
       "\n",
       "    .dataframe thead th {\n",
       "        text-align: right;\n",
       "    }\n",
       "</style>\n",
       "<table border=\"1\" class=\"dataframe\">\n",
       "  <thead>\n",
       "    <tr style=\"text-align: right;\">\n",
       "      <th></th>\n",
       "      <th>marca</th>\n",
       "      <th>modelo</th>\n",
       "      <th>pais</th>\n",
       "      <th>year_modelo</th>\n",
       "      <th>clase</th>\n",
       "      <th>sub_clase</th>\n",
       "      <th>tipo</th>\n",
       "      <th>avaluo</th>\n",
       "      <th>cilindraje</th>\n",
       "      <th>tipo_combustible</th>\n",
       "      <th>color</th>\n",
       "    </tr>\n",
       "  </thead>\n",
       "  <tbody>\n",
       "    <tr>\n",
       "      <th>0</th>\n",
       "      <td>SDAC WEICHAI</td>\n",
       "      <td>K1-3300 AC 2.3 2P 4X2 TM DIESEL</td>\n",
       "      <td>CHINA POPULAR</td>\n",
       "      <td>2025</td>\n",
       "      <td>CAMION</td>\n",
       "      <td>PLATAFORMA-C</td>\n",
       "      <td>PESADO</td>\n",
       "      <td>28015</td>\n",
       "      <td>2290</td>\n",
       "      <td>DIESEL</td>\n",
       "      <td>BLA</td>\n",
       "    </tr>\n",
       "    <tr>\n",
       "      <th>1</th>\n",
       "      <td>TUKO</td>\n",
       "      <td>TK CR5 GT 4V</td>\n",
       "      <td>CHINA POPULAR</td>\n",
       "      <td>2025</td>\n",
       "      <td>MOTOCICLETA</td>\n",
       "      <td>PASEO</td>\n",
       "      <td>LIVIANO</td>\n",
       "      <td>2750</td>\n",
       "      <td>250</td>\n",
       "      <td>GASOLINA</td>\n",
       "      <td>ROJ</td>\n",
       "    </tr>\n",
       "    <tr>\n",
       "      <th>2</th>\n",
       "      <td>HINO</td>\n",
       "      <td>XZU730L-WKFRL3 AC 4.0 2P 4X2 TM DIESEL</td>\n",
       "      <td>COLOMBIA</td>\n",
       "      <td>2025</td>\n",
       "      <td>CAMION</td>\n",
       "      <td>CAJON-C</td>\n",
       "      <td>PESADO</td>\n",
       "      <td>45490</td>\n",
       "      <td>4009</td>\n",
       "      <td>DIESEL</td>\n",
       "      <td>BLA</td>\n",
       "    </tr>\n",
       "    <tr>\n",
       "      <th>3</th>\n",
       "      <td>HINO</td>\n",
       "      <td>XZU710L-WKFQL3 BLINDADO AC 4.0 2P 4X2 TM DIESEL</td>\n",
       "      <td>COLOMBIA</td>\n",
       "      <td>2025</td>\n",
       "      <td>ESPECIAL</td>\n",
       "      <td>BLINDADO</td>\n",
       "      <td>PESADO</td>\n",
       "      <td>89245,25</td>\n",
       "      <td>4009</td>\n",
       "      <td>DIESEL</td>\n",
       "      <td>BLA</td>\n",
       "    </tr>\n",
       "    <tr>\n",
       "      <th>4</th>\n",
       "      <td>HYUNDAI</td>\n",
       "      <td>HD78 BARE MICROBUS AC 3.9 2P 4X2 TM DIESEL</td>\n",
       "      <td>ECUADOR</td>\n",
       "      <td>2025</td>\n",
       "      <td>OMNIBUS</td>\n",
       "      <td>BUS</td>\n",
       "      <td>PESADO</td>\n",
       "      <td>45990</td>\n",
       "      <td>3907</td>\n",
       "      <td>DIESEL</td>\n",
       "      <td>PLA</td>\n",
       "    </tr>\n",
       "  </tbody>\n",
       "</table>\n",
       "</div>"
      ],
      "text/plain": [
       "          marca                                           modelo  \\\n",
       "0  SDAC WEICHAI                  K1-3300 AC 2.3 2P 4X2 TM DIESEL   \n",
       "1          TUKO                                     TK CR5 GT 4V   \n",
       "2          HINO           XZU730L-WKFRL3 AC 4.0 2P 4X2 TM DIESEL   \n",
       "3          HINO  XZU710L-WKFQL3 BLINDADO AC 4.0 2P 4X2 TM DIESEL   \n",
       "4       HYUNDAI       HD78 BARE MICROBUS AC 3.9 2P 4X2 TM DIESEL   \n",
       "\n",
       "            pais  year_modelo        clase     sub_clase     tipo    avaluo  \\\n",
       "0  CHINA POPULAR         2025       CAMION  PLATAFORMA-C   PESADO     28015   \n",
       "1  CHINA POPULAR         2025  MOTOCICLETA         PASEO  LIVIANO      2750   \n",
       "2       COLOMBIA         2025       CAMION       CAJON-C   PESADO     45490   \n",
       "3       COLOMBIA         2025     ESPECIAL      BLINDADO   PESADO  89245,25   \n",
       "4        ECUADOR         2025      OMNIBUS           BUS   PESADO     45990   \n",
       "\n",
       "   cilindraje tipo_combustible color  \n",
       "0        2290           DIESEL   BLA  \n",
       "1         250         GASOLINA   ROJ  \n",
       "2        4009           DIESEL   BLA  \n",
       "3        4009           DIESEL   BLA  \n",
       "4        3907           DIESEL   PLA  "
      ]
     },
     "execution_count": 10,
     "metadata": {},
     "output_type": "execute_result"
    }
   ],
   "source": [
    "# 📌 Mostrar vista previa de los datos limpios\n",
    "df_.head()"
   ]
  }
 ],
 "metadata": {
  "kernelspec": {
   "display_name": "Python 3",
   "language": "python",
   "name": "python3"
  },
  "language_info": {
   "codemirror_mode": {
    "name": "ipython",
    "version": 3
   },
   "file_extension": ".py",
   "mimetype": "text/x-python",
   "name": "python",
   "nbconvert_exporter": "python",
   "pygments_lexer": "ipython3",
   "version": "3.12.3"
  }
 },
 "nbformat": 4,
 "nbformat_minor": 2
}
