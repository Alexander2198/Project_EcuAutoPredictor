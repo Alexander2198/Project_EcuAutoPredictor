{
 "cells": [
  {
   "cell_type": "code",
   "execution_count": 1,
   "metadata": {},
   "outputs": [],
   "source": [
    "# Importar librerías necesarias\n",
    "import pandas as pd\n",
    "import re\n",
    "import os"
   ]
  },
  {
   "cell_type": "code",
   "execution_count": 2,
   "metadata": {},
   "outputs": [],
   "source": [
    "# 📌 Definir la ruta del archivo 2017\n",
    "data_folder = \"../data/raw/\"  # Carpeta donde están los CSV\n",
    "file_ = \"SRI_Vehiculos_Nuevos_2022.csv\"\n",
    "file_path = os.path.join(data_folder, file_)\n"
   ]
  },
  {
   "cell_type": "code",
   "execution_count": 3,
   "metadata": {},
   "outputs": [],
   "source": [
    "# 📌 Intentar leer el archivo con diferentes codificaciones\n",
    "try:\n",
    "    df_ = pd.read_csv(file_path, delimiter=';', encoding=\"latin-1\", on_bad_lines='skip', low_memory=False)\n",
    "except UnicodeDecodeError:\n",
    "    df_ = pd.read_csv(file_path, delimiter=';', encoding=\"ISO-8859-1\", on_bad_lines='skip', low_memory=False)\n",
    "\n"
   ]
  },
  {
   "cell_type": "code",
   "execution_count": 4,
   "metadata": {},
   "outputs": [
    {
     "name": "stdout",
     "output_type": "stream",
     "text": [
      "📌 Columnas en el dataset de 2020:\n",
      "Index(['CATEGORÍA', 'CÓDIGO DE VEHÍCULO', 'TIPO TRANSACCIÓN', 'MARCA',\n",
      "       'MODELO', 'PAÍS', 'AÑO MODELO', 'CLASE', 'SUB CLASE', 'TIPO', 'AVALÚO',\n",
      "       'FECHA PROCESO (DD/MM/AA)', 'TIPO SERVICIO', 'CILINDRAJE',\n",
      "       'TIPO COMBUSTIBLE', 'FECHA COMPRA (DD/MM/AA)', 'CANTÓN', 'COLOR 1',\n",
      "       'COLOR 2', 'PERSONA NATURAL - JURÍDICA', 'Unnamed: 20'],\n",
      "      dtype='object')\n"
     ]
    }
   ],
   "source": [
    "# 📌 Mostrar las columnas disponibles en el dataset de 2017\n",
    "print(\"📌 Columnas en el dataset de 2020:\")\n",
    "print(df_.columns)"
   ]
  },
  {
   "cell_type": "code",
   "execution_count": 6,
   "metadata": {},
   "outputs": [],
   "source": [
    "# 📌 Renombrar columnas para que coincidan con el formato de 2024\n",
    "column_mappings_ = {\n",
    "    \"MARCA\": \"marca\",\n",
    "    \"MODELO\": \"modelo\",\n",
    "    \"PAIS\": \"pais\",\n",
    "    \"AÑO MODELO\": \"year_modelo\",\n",
    "    \"CLASE\": \"clase\",\n",
    "    \"SUB CLASE\": \"sub_clase\",\n",
    "    \"TIPO\": \"tipo\",\n",
    "    \"AVALÚO\": \"avaluo\",\n",
    "    \"CILINDRAJE\": \"cilindraje\",\n",
    "    \"TIPO COMBUSTIBLE\": \"tipo_combustible\",\n",
    "    \"COLOR 1\": \"color\",\n",
    "}\n",
    "\n",
    "df_.rename(columns=column_mappings_, inplace=True)"
   ]
  },
  {
   "cell_type": "code",
   "execution_count": 7,
   "metadata": {},
   "outputs": [],
   "source": [
    "# 📌 Seleccionar solo las columnas necesarias\n",
    "columnas_necesarias = ['marca', 'modelo', 'pais', 'year_modelo', 'clase', 'sub_clase', \n",
    "                        'tipo', 'avaluo', 'cilindraje', 'tipo_combustible', 'color']\n"
   ]
  },
  {
   "cell_type": "code",
   "execution_count": 8,
   "metadata": {},
   "outputs": [],
   "source": [
    "# 📌 Filtrar las columnas que existen en el dataset\n",
    "columnas_existentes = [col for col in columnas_necesarias if col in df_.columns]\n",
    "df_ = df_[columnas_existentes].copy()"
   ]
  },
  {
   "cell_type": "code",
   "execution_count": 9,
   "metadata": {},
   "outputs": [],
   "source": [
    "# 📌 Eliminar duplicados basados en \"modelo\", \"year\", \"avaluo\", \"cilindraje\"\n",
    "df_.drop_duplicates(subset=[\"modelo\", \"year_modelo\", \"avaluo\", \"cilindraje\"], keep=\"first\", inplace=True)\n"
   ]
  },
  {
   "cell_type": "code",
   "execution_count": 10,
   "metadata": {},
   "outputs": [],
   "source": [
    "# 📌 Guardar el dataset limpio\n",
    "output_path = \"../data/processed/SRI_Vehiculos_Nuevos_2022_Limpio.csv\"\n",
    "os.makedirs(\"../data/processed/\", exist_ok=True)\n",
    "df_.to_csv(output_path, index=False, sep=';')"
   ]
  },
  {
   "cell_type": "code",
   "execution_count": 11,
   "metadata": {},
   "outputs": [
    {
     "data": {
      "text/html": [
       "<div>\n",
       "<style scoped>\n",
       "    .dataframe tbody tr th:only-of-type {\n",
       "        vertical-align: middle;\n",
       "    }\n",
       "\n",
       "    .dataframe tbody tr th {\n",
       "        vertical-align: top;\n",
       "    }\n",
       "\n",
       "    .dataframe thead th {\n",
       "        text-align: right;\n",
       "    }\n",
       "</style>\n",
       "<table border=\"1\" class=\"dataframe\">\n",
       "  <thead>\n",
       "    <tr style=\"text-align: right;\">\n",
       "      <th></th>\n",
       "      <th>marca</th>\n",
       "      <th>modelo</th>\n",
       "      <th>year_modelo</th>\n",
       "      <th>clase</th>\n",
       "      <th>sub_clase</th>\n",
       "      <th>tipo</th>\n",
       "      <th>avaluo</th>\n",
       "      <th>cilindraje</th>\n",
       "      <th>tipo_combustible</th>\n",
       "      <th>color</th>\n",
       "    </tr>\n",
       "  </thead>\n",
       "  <tbody>\n",
       "    <tr>\n",
       "      <th>0</th>\n",
       "      <td>JEEP</td>\n",
       "      <td>COMPASS AC 2.4 5P 4X4 TM</td>\n",
       "      <td>2020</td>\n",
       "      <td>JEEP</td>\n",
       "      <td>JEEP</td>\n",
       "      <td>LIVIANO</td>\n",
       "      <td>17795,42</td>\n",
       "      <td>2400</td>\n",
       "      <td>GASOLINA</td>\n",
       "      <td>NEG</td>\n",
       "    </tr>\n",
       "    <tr>\n",
       "      <th>1</th>\n",
       "      <td>MERCEDES BENZ</td>\n",
       "      <td>SPRINTER 315 CDI STANDARD TECHO ELEVADO AMBULA...</td>\n",
       "      <td>2023</td>\n",
       "      <td>ESPECIAL</td>\n",
       "      <td>AMBULANCIA</td>\n",
       "      <td>LIVIANO</td>\n",
       "      <td>146399,36</td>\n",
       "      <td>2143</td>\n",
       "      <td>DIESEL</td>\n",
       "      <td>BLA</td>\n",
       "    </tr>\n",
       "    <tr>\n",
       "      <th>2</th>\n",
       "      <td>HINO</td>\n",
       "      <td>RM1ESSU-XSE 13.0 2P 4X2 TM DIESEL</td>\n",
       "      <td>2023</td>\n",
       "      <td>OMNIBUS</td>\n",
       "      <td>BUS</td>\n",
       "      <td>PESADO</td>\n",
       "      <td>201990</td>\n",
       "      <td>12913</td>\n",
       "      <td>DIESEL</td>\n",
       "      <td>PLA</td>\n",
       "    </tr>\n",
       "    <tr>\n",
       "      <th>6</th>\n",
       "      <td>KENWORTH</td>\n",
       "      <td>T370 AC 8.3 2P 4X2 TM DIESEL</td>\n",
       "      <td>2022</td>\n",
       "      <td>OMNIBUS</td>\n",
       "      <td>BUS COSTA</td>\n",
       "      <td>PESADO</td>\n",
       "      <td>111606,78</td>\n",
       "      <td>8300</td>\n",
       "      <td>DIESEL</td>\n",
       "      <td>AMA</td>\n",
       "    </tr>\n",
       "    <tr>\n",
       "      <th>7</th>\n",
       "      <td>CHEVROLET</td>\n",
       "      <td>TRACKER AC 1.2 5P 4X2 TA</td>\n",
       "      <td>2021</td>\n",
       "      <td>JEEP</td>\n",
       "      <td>JEEP</td>\n",
       "      <td>LIVIANO</td>\n",
       "      <td>41227,85</td>\n",
       "      <td>1200</td>\n",
       "      <td>GASOLINA</td>\n",
       "      <td>PLA</td>\n",
       "    </tr>\n",
       "  </tbody>\n",
       "</table>\n",
       "</div>"
      ],
      "text/plain": [
       "           marca                                             modelo  \\\n",
       "0           JEEP                           COMPASS AC 2.4 5P 4X4 TM   \n",
       "1  MERCEDES BENZ  SPRINTER 315 CDI STANDARD TECHO ELEVADO AMBULA...   \n",
       "2           HINO                  RM1ESSU-XSE 13.0 2P 4X2 TM DIESEL   \n",
       "6       KENWORTH                       T370 AC 8.3 2P 4X2 TM DIESEL   \n",
       "7      CHEVROLET                           TRACKER AC 1.2 5P 4X2 TA   \n",
       "\n",
       "   year_modelo     clase   sub_clase     tipo     avaluo  cilindraje  \\\n",
       "0         2020      JEEP        JEEP  LIVIANO   17795,42        2400   \n",
       "1         2023  ESPECIAL  AMBULANCIA  LIVIANO  146399,36        2143   \n",
       "2         2023   OMNIBUS         BUS   PESADO     201990       12913   \n",
       "6         2022   OMNIBUS   BUS COSTA   PESADO  111606,78        8300   \n",
       "7         2021      JEEP        JEEP  LIVIANO   41227,85        1200   \n",
       "\n",
       "  tipo_combustible color  \n",
       "0         GASOLINA   NEG  \n",
       "1           DIESEL   BLA  \n",
       "2           DIESEL   PLA  \n",
       "6           DIESEL   AMA  \n",
       "7         GASOLINA   PLA  "
      ]
     },
     "execution_count": 11,
     "metadata": {},
     "output_type": "execute_result"
    }
   ],
   "source": [
    "# 📌 Mostrar vista previa de los datos limpios\n",
    "df_.head()"
   ]
  }
 ],
 "metadata": {
  "kernelspec": {
   "display_name": "Python 3",
   "language": "python",
   "name": "python3"
  },
  "language_info": {
   "codemirror_mode": {
    "name": "ipython",
    "version": 3
   },
   "file_extension": ".py",
   "mimetype": "text/x-python",
   "name": "python",
   "nbconvert_exporter": "python",
   "pygments_lexer": "ipython3",
   "version": "3.12.3"
  }
 },
 "nbformat": 4,
 "nbformat_minor": 2
}
