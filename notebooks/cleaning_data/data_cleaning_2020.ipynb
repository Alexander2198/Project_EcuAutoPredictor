{
 "cells": [
  {
   "cell_type": "code",
   "execution_count": 1,
   "metadata": {},
   "outputs": [],
   "source": [
    "# Importar librerías necesarias\n",
    "import pandas as pd\n",
    "import re\n",
    "import os"
   ]
  },
  {
   "cell_type": "code",
   "execution_count": 4,
   "metadata": {},
   "outputs": [],
   "source": [
    "# 📌 Definir la ruta del archivo 2017\n",
    "data_folder = \"../data/raw/\"  # Carpeta donde están los CSV\n",
    "file_ = \"SRI_Vehiculos_Nuevos_2020.csv\"\n",
    "file_path = os.path.join(data_folder, file_)\n"
   ]
  },
  {
   "cell_type": "code",
   "execution_count": 5,
   "metadata": {},
   "outputs": [],
   "source": [
    "# 📌 Intentar leer el archivo con diferentes codificaciones\n",
    "try:\n",
    "    df_ = pd.read_csv(file_path, delimiter=';', encoding=\"latin-1\", on_bad_lines='skip', low_memory=False)\n",
    "except UnicodeDecodeError:\n",
    "    df_ = pd.read_csv(file_path, delimiter=';', encoding=\"ISO-8859-1\", on_bad_lines='skip', low_memory=False)\n",
    "\n"
   ]
  },
  {
   "cell_type": "code",
   "execution_count": 13,
   "metadata": {},
   "outputs": [
    {
     "name": "stdout",
     "output_type": "stream",
     "text": [
      "📌 Columnas en el dataset de 2020:\n",
      "Index(['marca', 'modelo', 'pais', 'year_modelo', 'clase', 'sub_clase', 'tipo',\n",
      "       'avaluo', 'cilindraje', 'tipo_combustible', 'color'],\n",
      "      dtype='object')\n"
     ]
    }
   ],
   "source": [
    "# 📌 Mostrar las columnas disponibles en el dataset de 2017\n",
    "print(\"📌 Columnas en el dataset de 2020:\")\n",
    "print(df_.columns)"
   ]
  },
  {
   "cell_type": "code",
   "execution_count": 7,
   "metadata": {},
   "outputs": [],
   "source": [
    "# 📌 Renombrar columnas para que coincidan con el formato de 2024\n",
    "column_mappings_ = {\n",
    "    \"MARCA\": \"marca\",\n",
    "    \"MODELO\": \"modelo\",\n",
    "    \"PAIS\": \"pais\",\n",
    "    \"AÑO MODELO\": \"year_modelo\",\n",
    "    \"CLASE\": \"clase\",\n",
    "    \"SUB CLASE\": \"sub_clase\",\n",
    "    \"TIPO\": \"tipo\",\n",
    "    \"AVALÚO\": \"avaluo\",\n",
    "    \"CILINDRAJE\": \"cilindraje\",\n",
    "    \"TIPO COMBUSTIBLE\": \"tipo_combustible\",\n",
    "    \"COLOR 1\": \"color\",\n",
    "}\n",
    "\n",
    "df_.rename(columns=column_mappings_, inplace=True)"
   ]
  },
  {
   "cell_type": "code",
   "execution_count": 8,
   "metadata": {},
   "outputs": [],
   "source": [
    "# 📌 Seleccionar solo las columnas necesarias\n",
    "columnas_necesarias = ['marca', 'modelo', 'pais', 'year_modelo', 'clase', 'sub_clase', \n",
    "                        'tipo', 'avaluo', 'cilindraje', 'tipo_combustible', 'color']\n"
   ]
  },
  {
   "cell_type": "code",
   "execution_count": 9,
   "metadata": {},
   "outputs": [],
   "source": [
    "# 📌 Filtrar las columnas que existen en el dataset\n",
    "columnas_existentes = [col for col in columnas_necesarias if col in df_.columns]\n",
    "df_ = df_[columnas_existentes].copy()"
   ]
  },
  {
   "cell_type": "code",
   "execution_count": 10,
   "metadata": {},
   "outputs": [],
   "source": [
    "# 📌 Eliminar duplicados basados en \"modelo\", \"year\", \"avaluo\", \"cilindraje\"\n",
    "df_.drop_duplicates(subset=[\"modelo\", \"year_modelo\", \"avaluo\", \"cilindraje\"], keep=\"first\", inplace=True)\n"
   ]
  },
  {
   "cell_type": "code",
   "execution_count": 11,
   "metadata": {},
   "outputs": [],
   "source": [
    "# 📌 Guardar el dataset limpio\n",
    "output_path = \"../data/processed/SRI_Vehiculos_Nuevos_2020_Limpio.csv\"\n",
    "os.makedirs(\"../data/processed/\", exist_ok=True)\n",
    "df_.to_csv(output_path, index=False, sep=';')"
   ]
  },
  {
   "cell_type": "code",
   "execution_count": 12,
   "metadata": {},
   "outputs": [
    {
     "data": {
      "text/html": [
       "<div>\n",
       "<style scoped>\n",
       "    .dataframe tbody tr th:only-of-type {\n",
       "        vertical-align: middle;\n",
       "    }\n",
       "\n",
       "    .dataframe tbody tr th {\n",
       "        vertical-align: top;\n",
       "    }\n",
       "\n",
       "    .dataframe thead th {\n",
       "        text-align: right;\n",
       "    }\n",
       "</style>\n",
       "<table border=\"1\" class=\"dataframe\">\n",
       "  <thead>\n",
       "    <tr style=\"text-align: right;\">\n",
       "      <th></th>\n",
       "      <th>marca</th>\n",
       "      <th>modelo</th>\n",
       "      <th>pais</th>\n",
       "      <th>year_modelo</th>\n",
       "      <th>clase</th>\n",
       "      <th>sub_clase</th>\n",
       "      <th>tipo</th>\n",
       "      <th>avaluo</th>\n",
       "      <th>cilindraje</th>\n",
       "      <th>tipo_combustible</th>\n",
       "      <th>color</th>\n",
       "    </tr>\n",
       "  </thead>\n",
       "  <tbody>\n",
       "    <tr>\n",
       "      <th>0</th>\n",
       "      <td>MERCEDES BENZ</td>\n",
       "      <td>OF 1723 6.4 2P 4X2 TM DIESEL</td>\n",
       "      <td>BRASIL</td>\n",
       "      <td>2020</td>\n",
       "      <td>OMNIBUS</td>\n",
       "      <td>BUS</td>\n",
       "      <td>PESADO</td>\n",
       "      <td>154900</td>\n",
       "      <td>6374</td>\n",
       "      <td>DIESEL</td>\n",
       "      <td>NEG</td>\n",
       "    </tr>\n",
       "    <tr>\n",
       "      <th>1</th>\n",
       "      <td>SINOTRUK</td>\n",
       "      <td>SITRAK C7H ZZ1256V524ME1 AC 10.5 2P 6X4 TM DIESEL</td>\n",
       "      <td>CHINA POPULAR</td>\n",
       "      <td>2021</td>\n",
       "      <td>CAMION</td>\n",
       "      <td>CAJON-C</td>\n",
       "      <td>PESADO</td>\n",
       "      <td>100990</td>\n",
       "      <td>10518</td>\n",
       "      <td>DIESEL</td>\n",
       "      <td>BLA</td>\n",
       "    </tr>\n",
       "    <tr>\n",
       "      <th>3</th>\n",
       "      <td>AUDI</td>\n",
       "      <td>Q3 SPORTBACK FULL TFSI F3NA6Y AC 2.0 5P 4X4 TA</td>\n",
       "      <td>ALEMANIA</td>\n",
       "      <td>2021</td>\n",
       "      <td>JEEP</td>\n",
       "      <td>JEEP</td>\n",
       "      <td>LIVIANO</td>\n",
       "      <td>66000</td>\n",
       "      <td>2000</td>\n",
       "      <td>GASOLINA</td>\n",
       "      <td>BLA</td>\n",
       "    </tr>\n",
       "    <tr>\n",
       "      <th>4</th>\n",
       "      <td>HYUNDAI</td>\n",
       "      <td>HD45 AC 2.6 2P 4X2 TM DIESEL</td>\n",
       "      <td>ECUADOR</td>\n",
       "      <td>2021</td>\n",
       "      <td>CAMION</td>\n",
       "      <td>FURGON-C</td>\n",
       "      <td>PESADO</td>\n",
       "      <td>26110</td>\n",
       "      <td>2607</td>\n",
       "      <td>DIESEL</td>\n",
       "      <td>BLA</td>\n",
       "    </tr>\n",
       "    <tr>\n",
       "      <th>7</th>\n",
       "      <td>HIGER</td>\n",
       "      <td>KLQ6138Y AC 10.8 1P 4X2 TM DIESEL</td>\n",
       "      <td>CHINA POPULAR</td>\n",
       "      <td>2020</td>\n",
       "      <td>OMNIBUS</td>\n",
       "      <td>BUS</td>\n",
       "      <td>PESADO</td>\n",
       "      <td>165000</td>\n",
       "      <td>10800</td>\n",
       "      <td>DIESEL</td>\n",
       "      <td>VRD</td>\n",
       "    </tr>\n",
       "  </tbody>\n",
       "</table>\n",
       "</div>"
      ],
      "text/plain": [
       "           marca                                             modelo  \\\n",
       "0  MERCEDES BENZ                       OF 1723 6.4 2P 4X2 TM DIESEL   \n",
       "1       SINOTRUK  SITRAK C7H ZZ1256V524ME1 AC 10.5 2P 6X4 TM DIESEL   \n",
       "3           AUDI     Q3 SPORTBACK FULL TFSI F3NA6Y AC 2.0 5P 4X4 TA   \n",
       "4        HYUNDAI                       HD45 AC 2.6 2P 4X2 TM DIESEL   \n",
       "7          HIGER                  KLQ6138Y AC 10.8 1P 4X2 TM DIESEL   \n",
       "\n",
       "            pais  year_modelo    clase sub_clase     tipo  avaluo  cilindraje  \\\n",
       "0         BRASIL         2020  OMNIBUS       BUS   PESADO  154900        6374   \n",
       "1  CHINA POPULAR         2021   CAMION   CAJON-C   PESADO  100990       10518   \n",
       "3       ALEMANIA         2021     JEEP      JEEP  LIVIANO   66000        2000   \n",
       "4        ECUADOR         2021   CAMION  FURGON-C   PESADO   26110        2607   \n",
       "7  CHINA POPULAR         2020  OMNIBUS       BUS   PESADO  165000       10800   \n",
       "\n",
       "  tipo_combustible color  \n",
       "0           DIESEL   NEG  \n",
       "1           DIESEL   BLA  \n",
       "3         GASOLINA   BLA  \n",
       "4           DIESEL   BLA  \n",
       "7           DIESEL   VRD  "
      ]
     },
     "execution_count": 12,
     "metadata": {},
     "output_type": "execute_result"
    }
   ],
   "source": [
    "# 📌 Mostrar vista previa de los datos limpios\n",
    "df_.head()"
   ]
  }
 ],
 "metadata": {
  "kernelspec": {
   "display_name": "Python 3",
   "language": "python",
   "name": "python3"
  },
  "language_info": {
   "codemirror_mode": {
    "name": "ipython",
    "version": 3
   },
   "file_extension": ".py",
   "mimetype": "text/x-python",
   "name": "python",
   "nbconvert_exporter": "python",
   "pygments_lexer": "ipython3",
   "version": "3.12.3"
  }
 },
 "nbformat": 4,
 "nbformat_minor": 2
}
