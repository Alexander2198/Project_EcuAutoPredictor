{
 "cells": [
  {
   "cell_type": "code",
   "execution_count": 1,
   "metadata": {},
   "outputs": [],
   "source": [
    "# Importar librerías necesarias\n",
    "import pandas as pd\n",
    "import re\n",
    "import os"
   ]
  },
  {
   "cell_type": "code",
   "execution_count": 2,
   "metadata": {},
   "outputs": [],
   "source": [
    "# 📌 Definir la ruta del archivo 2017\n",
    "data_folder = \"../data/raw/\"  # Carpeta donde están los CSV\n",
    "file_2017 = \"SRI_Vehiculos_Nuevos_2017.csv\"\n",
    "file_path_2017 = os.path.join(data_folder, file_2017)\n"
   ]
  },
  {
   "cell_type": "code",
   "execution_count": 3,
   "metadata": {},
   "outputs": [],
   "source": [
    "# 📌 Intentar leer el archivo con diferentes codificaciones\n",
    "try:\n",
    "    df_2017 = pd.read_csv(file_path_2017, delimiter=';', encoding=\"latin-1\", on_bad_lines='skip', low_memory=False)\n",
    "except UnicodeDecodeError:\n",
    "    df_2017 = pd.read_csv(file_path_2017, delimiter=';', encoding=\"ISO-8859-1\", on_bad_lines='skip', low_memory=False)\n",
    "\n"
   ]
  },
  {
   "cell_type": "code",
   "execution_count": 4,
   "metadata": {},
   "outputs": [],
   "source": [
    "column_mappings = {\n",
    "    \"país\": \"pais\",\n",
    "    \"año_modelo\": \"year_modelo\",\n",
    "    \"avalúo\": \"avaluo\",\n",
    "    \"color_1\": \"color\",\n",
    "    \"codigo_color_1\": \"color\",\n",
    "    \"cantón\": \"canton\",\n",
    "    \"codigo_canton\": \"canton\",\n",
    "}\n"
   ]
  },
  {
   "cell_type": "code",
   "execution_count": 5,
   "metadata": {},
   "outputs": [
    {
     "name": "stdout",
     "output_type": "stream",
     "text": [
      "📌 Columnas en el dataset de 2017:\n",
      "Index(['Código Vehículo 1', 'Sub Categoria 1', 'Marca', 'Modelo', 'País',\n",
      "       'Año Modelo', 'Tipo', 'Clase', 'Sub Clase', 'Cilindraje',\n",
      "       'Tipo Combustible', 'Tipo Servicio', 'Codigo Color 1', 'Codigo Color 2',\n",
      "       'Forma de Adquisición', 'Mes Adquisición', 'Codigo Canton',\n",
      "       'Descripcion Cantón', 'Mes  registro venta', 'Valor Avaluo'],\n",
      "      dtype='object')\n"
     ]
    }
   ],
   "source": [
    "# 📌 Mostrar las columnas disponibles en el dataset de 2017\n",
    "print(\"📌 Columnas en el dataset de 2017:\")\n",
    "print(df_2017.columns)"
   ]
  },
  {
   "cell_type": "code",
   "execution_count": 6,
   "metadata": {},
   "outputs": [],
   "source": [
    "# 📌 Renombrar columnas para que coincidan con el formato de 2024\n",
    "column_mappings_2017 = {\n",
    "    \"Marca\": \"marca\",\n",
    "    \"Modelo\": \"modelo\",\n",
    "    \"País\": \"pais\",\n",
    "    \"Año Modelo\": \"year_modelo\",\n",
    "    \"Clase\": \"clase\",\n",
    "    \"Sub Clase\": \"sub_clase\",\n",
    "    \"Tipo\": \"tipo\",\n",
    "    \"Valor Avaluo\": \"avaluo\",\n",
    "    \"Cilindraje\": \"cilindraje\",\n",
    "    \"Tipo Combustible\": \"tipo_combustible\",\n",
    "    \"Codigo Color 1\": \"color\",\n",
    "}\n",
    "\n",
    "df_2017.rename(columns=column_mappings_2017, inplace=True)"
   ]
  },
  {
   "cell_type": "code",
   "execution_count": 7,
   "metadata": {},
   "outputs": [],
   "source": [
    "# 📌 Seleccionar solo las columnas necesarias\n",
    "columnas_necesarias = ['marca', 'modelo', 'pais', 'year_modelo', 'clase', 'sub_clase', \n",
    "                        'tipo', 'avaluo', 'cilindraje', 'tipo_combustible', 'color']\n"
   ]
  },
  {
   "cell_type": "code",
   "execution_count": 8,
   "metadata": {},
   "outputs": [],
   "source": [
    "# 📌 Filtrar las columnas que existen en el dataset\n",
    "columnas_existentes = [col for col in columnas_necesarias if col in df_2017.columns]\n",
    "df_2017 = df_2017[columnas_existentes].copy()"
   ]
  },
  {
   "cell_type": "code",
   "execution_count": 9,
   "metadata": {},
   "outputs": [],
   "source": [
    "# 📌 Eliminar duplicados basados en \"modelo\", \"year\", \"avaluo\", \"cilindraje\"\n",
    "df_2017.drop_duplicates(subset=[\"modelo\", \"year_modelo\", \"avaluo\", \"cilindraje\"], keep=\"first\", inplace=True)\n"
   ]
  },
  {
   "cell_type": "code",
   "execution_count": 10,
   "metadata": {},
   "outputs": [],
   "source": [
    "# 📌 Guardar el dataset limpio\n",
    "output_path = \"../data/processed/SRI_Vehiculos_Nuevos_2017_Limpio.csv\"\n",
    "os.makedirs(\"../data/processed/\", exist_ok=True)\n",
    "df_2017.to_csv(output_path, index=False, sep=';')"
   ]
  },
  {
   "cell_type": "code",
   "execution_count": 11,
   "metadata": {},
   "outputs": [
    {
     "data": {
      "text/html": [
       "<div>\n",
       "<style scoped>\n",
       "    .dataframe tbody tr th:only-of-type {\n",
       "        vertical-align: middle;\n",
       "    }\n",
       "\n",
       "    .dataframe tbody tr th {\n",
       "        vertical-align: top;\n",
       "    }\n",
       "\n",
       "    .dataframe thead th {\n",
       "        text-align: right;\n",
       "    }\n",
       "</style>\n",
       "<table border=\"1\" class=\"dataframe\">\n",
       "  <thead>\n",
       "    <tr style=\"text-align: right;\">\n",
       "      <th></th>\n",
       "      <th>marca</th>\n",
       "      <th>modelo</th>\n",
       "      <th>pais</th>\n",
       "      <th>year_modelo</th>\n",
       "      <th>clase</th>\n",
       "      <th>sub_clase</th>\n",
       "      <th>tipo</th>\n",
       "      <th>avaluo</th>\n",
       "      <th>cilindraje</th>\n",
       "      <th>tipo_combustible</th>\n",
       "      <th>color</th>\n",
       "    </tr>\n",
       "  </thead>\n",
       "  <tbody>\n",
       "    <tr>\n",
       "      <th>0</th>\n",
       "      <td>CHEVROLET</td>\n",
       "      <td>D-MAX CRDI 3.0 CD 4X2 TM DIESEL</td>\n",
       "      <td>ECUADOR</td>\n",
       "      <td>2018</td>\n",
       "      <td>CAMIONETA</td>\n",
       "      <td>DOBLE CABINA</td>\n",
       "      <td>LIVIANO</td>\n",
       "      <td>29990</td>\n",
       "      <td>2999</td>\n",
       "      <td>DIESEL</td>\n",
       "      <td>BLA</td>\n",
       "    </tr>\n",
       "    <tr>\n",
       "      <th>1</th>\n",
       "      <td>SUZUKI</td>\n",
       "      <td>SCROSS AC 1.6 5P 4X2 TM</td>\n",
       "      <td>HUNGRIA</td>\n",
       "      <td>2018</td>\n",
       "      <td>AUTOMOVIL</td>\n",
       "      <td>STATION WAGON</td>\n",
       "      <td>LIVIANO</td>\n",
       "      <td>25990</td>\n",
       "      <td>1586</td>\n",
       "      <td>GASOLINA</td>\n",
       "      <td>ROJ</td>\n",
       "    </tr>\n",
       "    <tr>\n",
       "      <th>2</th>\n",
       "      <td>CHEVROLET</td>\n",
       "      <td>D-MAX TD 2.5 CS 4X2 TM DIESEL</td>\n",
       "      <td>ECUADOR</td>\n",
       "      <td>2018</td>\n",
       "      <td>CAMIONETA</td>\n",
       "      <td>CABINA SIMPLE</td>\n",
       "      <td>LIVIANO</td>\n",
       "      <td>27470</td>\n",
       "      <td>2499</td>\n",
       "      <td>DIESEL</td>\n",
       "      <td>PLO</td>\n",
       "    </tr>\n",
       "    <tr>\n",
       "      <th>3</th>\n",
       "      <td>CHEVROLET</td>\n",
       "      <td>SAIL LS AC 1.5 4P 4X2 TM</td>\n",
       "      <td>ECUADOR</td>\n",
       "      <td>2018</td>\n",
       "      <td>AUTOMOVIL</td>\n",
       "      <td>SEDAN</td>\n",
       "      <td>LIVIANO</td>\n",
       "      <td>19490</td>\n",
       "      <td>1485</td>\n",
       "      <td>GASOLINA</td>\n",
       "      <td>ROJ</td>\n",
       "    </tr>\n",
       "    <tr>\n",
       "      <th>4</th>\n",
       "      <td>SUZUKI</td>\n",
       "      <td>GRAND VITARA SZ AC 2.0 5P 4X2 TM</td>\n",
       "      <td>ECUADOR</td>\n",
       "      <td>2018</td>\n",
       "      <td>JEEP</td>\n",
       "      <td>JEEP</td>\n",
       "      <td>LIVIANO</td>\n",
       "      <td>27990</td>\n",
       "      <td>1995</td>\n",
       "      <td>GASOLINA</td>\n",
       "      <td>PLO</td>\n",
       "    </tr>\n",
       "  </tbody>\n",
       "</table>\n",
       "</div>"
      ],
      "text/plain": [
       "       marca                            modelo     pais  year_modelo  \\\n",
       "0  CHEVROLET   D-MAX CRDI 3.0 CD 4X2 TM DIESEL  ECUADOR         2018   \n",
       "1     SUZUKI           SCROSS AC 1.6 5P 4X2 TM  HUNGRIA         2018   \n",
       "2  CHEVROLET     D-MAX TD 2.5 CS 4X2 TM DIESEL  ECUADOR         2018   \n",
       "3  CHEVROLET          SAIL LS AC 1.5 4P 4X2 TM  ECUADOR         2018   \n",
       "4     SUZUKI  GRAND VITARA SZ AC 2.0 5P 4X2 TM  ECUADOR         2018   \n",
       "\n",
       "       clase      sub_clase     tipo avaluo  cilindraje tipo_combustible color  \n",
       "0  CAMIONETA   DOBLE CABINA  LIVIANO  29990        2999           DIESEL   BLA  \n",
       "1  AUTOMOVIL  STATION WAGON  LIVIANO  25990        1586         GASOLINA   ROJ  \n",
       "2  CAMIONETA  CABINA SIMPLE  LIVIANO  27470        2499           DIESEL   PLO  \n",
       "3  AUTOMOVIL          SEDAN  LIVIANO  19490        1485         GASOLINA   ROJ  \n",
       "4       JEEP           JEEP  LIVIANO  27990        1995         GASOLINA   PLO  "
      ]
     },
     "execution_count": 11,
     "metadata": {},
     "output_type": "execute_result"
    }
   ],
   "source": [
    "# 📌 Mostrar vista previa de los datos limpios\n",
    "df_2017.head()"
   ]
  }
 ],
 "metadata": {
  "kernelspec": {
   "display_name": "Python 3",
   "language": "python",
   "name": "python3"
  },
  "language_info": {
   "codemirror_mode": {
    "name": "ipython",
    "version": 3
   },
   "file_extension": ".py",
   "mimetype": "text/x-python",
   "name": "python",
   "nbconvert_exporter": "python",
   "pygments_lexer": "ipython3",
   "version": "3.12.3"
  }
 },
 "nbformat": 4,
 "nbformat_minor": 2
}
