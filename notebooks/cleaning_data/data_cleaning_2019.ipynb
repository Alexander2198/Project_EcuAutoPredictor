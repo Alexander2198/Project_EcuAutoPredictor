{
 "cells": [
  {
   "cell_type": "code",
   "execution_count": 1,
   "metadata": {},
   "outputs": [],
   "source": [
    "# Importar librerías necesarias\n",
    "import pandas as pd\n",
    "import re\n",
    "import os"
   ]
  },
  {
   "cell_type": "code",
   "execution_count": 2,
   "metadata": {},
   "outputs": [],
   "source": [
    "# 📌 Definir la ruta del archivo 2017\n",
    "data_folder = \"../data/raw/\"  # Carpeta donde están los CSV\n",
    "file_ = \"SRI_Vehiculos_Nuevos_2019.csv\"\n",
    "file_path = os.path.join(data_folder, file_)\n"
   ]
  },
  {
   "cell_type": "code",
   "execution_count": 3,
   "metadata": {},
   "outputs": [],
   "source": [
    "# 📌 Intentar leer el archivo con diferentes codificaciones\n",
    "try:\n",
    "    df_ = pd.read_csv(file_path, delimiter=';', encoding=\"latin-1\", on_bad_lines='skip', low_memory=False)\n",
    "except UnicodeDecodeError:\n",
    "    df_ = pd.read_csv(file_path, delimiter=';', encoding=\"ISO-8859-1\", on_bad_lines='skip', low_memory=False)\n",
    "\n"
   ]
  },
  {
   "cell_type": "code",
   "execution_count": 4,
   "metadata": {},
   "outputs": [
    {
     "name": "stdout",
     "output_type": "stream",
     "text": [
      "📌 Columnas en el dataset de 2017:\n",
      "Index(['CATEGORÍA', 'CÓDIGO DE VEHÍCULO', 'TIPO TRANSACCIÓN', 'MARCA',\n",
      "       'MODELO', 'PAIS', 'AÑO MODELO', 'CLASE', 'SUB CLASE', 'TIPO', 'AVALÚO',\n",
      "       'FECHA PROCESO (MM/DD/AA)', 'TIPO SERVICIO', 'CILINDRAJE',\n",
      "       'TIPO COMBUSTIBLE', 'FECHA COMPRA (MM/DD/AA)', 'CANTON', 'COLOR 1',\n",
      "       'COLOR 2'],\n",
      "      dtype='object')\n"
     ]
    }
   ],
   "source": [
    "# 📌 Mostrar las columnas disponibles en el dataset de 2017\n",
    "print(\"📌 Columnas en el dataset de 2017:\")\n",
    "print(df_.columns)"
   ]
  },
  {
   "cell_type": "code",
   "execution_count": 5,
   "metadata": {},
   "outputs": [],
   "source": [
    "# 📌 Renombrar columnas para que coincidan con el formato de 2024\n",
    "column_mappings_ = {\n",
    "    \"MARCA\": \"marca\",\n",
    "    \"MODELO\": \"modelo\",\n",
    "    \"PAIS\": \"pais\",\n",
    "    \"AÑO MODELO\": \"year_modelo\",\n",
    "    \"CLASE\": \"clase\",\n",
    "    \"SUB CLASE\": \"sub_clase\",\n",
    "    \"TIPO\": \"tipo\",\n",
    "    \"AVALÚO\": \"avaluo\",\n",
    "    \"CILINDRAJE\": \"cilindraje\",\n",
    "    \"TIPO COMBUSTIBLE\": \"tipo_combustible\",\n",
    "    \"COLOR 1\": \"color\",\n",
    "}\n",
    "\n",
    "df_.rename(columns=column_mappings_, inplace=True)"
   ]
  },
  {
   "cell_type": "code",
   "execution_count": 6,
   "metadata": {},
   "outputs": [],
   "source": [
    "# 📌 Seleccionar solo las columnas necesarias\n",
    "columnas_necesarias = ['marca', 'modelo', 'pais', 'year_modelo', 'clase', 'sub_clase', \n",
    "                        'tipo', 'avaluo', 'cilindraje', 'tipo_combustible', 'color']\n"
   ]
  },
  {
   "cell_type": "code",
   "execution_count": 7,
   "metadata": {},
   "outputs": [],
   "source": [
    "# 📌 Filtrar las columnas que existen en el dataset\n",
    "columnas_existentes = [col for col in columnas_necesarias if col in df_.columns]\n",
    "df_ = df_[columnas_existentes].copy()"
   ]
  },
  {
   "cell_type": "code",
   "execution_count": 8,
   "metadata": {},
   "outputs": [],
   "source": [
    "# 📌 Eliminar duplicados basados en \"modelo\", \"year\", \"avaluo\", \"cilindraje\"\n",
    "df_.drop_duplicates(subset=[\"modelo\", \"year_modelo\", \"avaluo\", \"cilindraje\"], keep=\"first\", inplace=True)\n"
   ]
  },
  {
   "cell_type": "code",
   "execution_count": 9,
   "metadata": {},
   "outputs": [],
   "source": [
    "# 📌 Guardar el dataset limpio\n",
    "output_path = \"../data/processed/SRI_Vehiculos_Nuevos_2019_Limpio.csv\"\n",
    "os.makedirs(\"../data/processed/\", exist_ok=True)\n",
    "df_.to_csv(output_path, index=False, sep=';')"
   ]
  },
  {
   "cell_type": "code",
   "execution_count": 11,
   "metadata": {},
   "outputs": [
    {
     "data": {
      "text/html": [
       "<div>\n",
       "<style scoped>\n",
       "    .dataframe tbody tr th:only-of-type {\n",
       "        vertical-align: middle;\n",
       "    }\n",
       "\n",
       "    .dataframe tbody tr th {\n",
       "        vertical-align: top;\n",
       "    }\n",
       "\n",
       "    .dataframe thead th {\n",
       "        text-align: right;\n",
       "    }\n",
       "</style>\n",
       "<table border=\"1\" class=\"dataframe\">\n",
       "  <thead>\n",
       "    <tr style=\"text-align: right;\">\n",
       "      <th></th>\n",
       "      <th>marca</th>\n",
       "      <th>modelo</th>\n",
       "      <th>pais</th>\n",
       "      <th>year_modelo</th>\n",
       "      <th>clase</th>\n",
       "      <th>sub_clase</th>\n",
       "      <th>tipo</th>\n",
       "      <th>avaluo</th>\n",
       "      <th>cilindraje</th>\n",
       "      <th>tipo_combustible</th>\n",
       "      <th>color</th>\n",
       "    </tr>\n",
       "  </thead>\n",
       "  <tbody>\n",
       "    <tr>\n",
       "      <th>0</th>\n",
       "      <td>GREAT WALL</td>\n",
       "      <td>HAVAL M4 AC 1.5 5P 4X2 TM</td>\n",
       "      <td>ECUADOR</td>\n",
       "      <td>2019</td>\n",
       "      <td>JEEP</td>\n",
       "      <td>JEEP</td>\n",
       "      <td>LIVIANO</td>\n",
       "      <td>17990.0</td>\n",
       "      <td>1497</td>\n",
       "      <td>GASOLINA</td>\n",
       "      <td>PLO</td>\n",
       "    </tr>\n",
       "    <tr>\n",
       "      <th>1</th>\n",
       "      <td>ZOTYE</td>\n",
       "      <td>Z100 AC 1.0 4P 4X2 TM</td>\n",
       "      <td>CHINA POPULAR</td>\n",
       "      <td>2019</td>\n",
       "      <td>AUTOMOVIL</td>\n",
       "      <td>STATION WAGON</td>\n",
       "      <td>LIVIANO</td>\n",
       "      <td>10990.0</td>\n",
       "      <td>997</td>\n",
       "      <td>GASOLINA</td>\n",
       "      <td>AZU</td>\n",
       "    </tr>\n",
       "    <tr>\n",
       "      <th>3</th>\n",
       "      <td>CHEVROLET</td>\n",
       "      <td>BEAT PREMIER AC 1.2 4P 4X2 TM</td>\n",
       "      <td>COLOMBIA</td>\n",
       "      <td>2019</td>\n",
       "      <td>AUTOMOVIL</td>\n",
       "      <td>SEDAN</td>\n",
       "      <td>LIVIANO</td>\n",
       "      <td>15990.0</td>\n",
       "      <td>1206</td>\n",
       "      <td>GASOLINA</td>\n",
       "      <td>PLO</td>\n",
       "    </tr>\n",
       "    <tr>\n",
       "      <th>4</th>\n",
       "      <td>SUZUKI</td>\n",
       "      <td>GRAND VITARA SZ AC 2.0 5P 4X2 TM</td>\n",
       "      <td>ECUADOR</td>\n",
       "      <td>2019</td>\n",
       "      <td>JEEP</td>\n",
       "      <td>JEEP</td>\n",
       "      <td>LIVIANO</td>\n",
       "      <td>27990.0</td>\n",
       "      <td>1995</td>\n",
       "      <td>GASOLINA</td>\n",
       "      <td>PLO</td>\n",
       "    </tr>\n",
       "    <tr>\n",
       "      <th>6</th>\n",
       "      <td>CHEVROLET</td>\n",
       "      <td>D-MAX CRDI 3.0 CD 4X2 TM DIESEL</td>\n",
       "      <td>ECUADOR</td>\n",
       "      <td>2019</td>\n",
       "      <td>CAMIONETA</td>\n",
       "      <td>DOBLE CABINA</td>\n",
       "      <td>LIVIANO</td>\n",
       "      <td>29990.0</td>\n",
       "      <td>2999</td>\n",
       "      <td>DIESEL</td>\n",
       "      <td>BLA</td>\n",
       "    </tr>\n",
       "  </tbody>\n",
       "</table>\n",
       "</div>"
      ],
      "text/plain": [
       "        marca                            modelo           pais  year_modelo  \\\n",
       "0  GREAT WALL         HAVAL M4 AC 1.5 5P 4X2 TM        ECUADOR         2019   \n",
       "1       ZOTYE             Z100 AC 1.0 4P 4X2 TM  CHINA POPULAR         2019   \n",
       "3   CHEVROLET     BEAT PREMIER AC 1.2 4P 4X2 TM       COLOMBIA         2019   \n",
       "4      SUZUKI  GRAND VITARA SZ AC 2.0 5P 4X2 TM        ECUADOR         2019   \n",
       "6   CHEVROLET   D-MAX CRDI 3.0 CD 4X2 TM DIESEL        ECUADOR         2019   \n",
       "\n",
       "       clase      sub_clase     tipo   avaluo  cilindraje tipo_combustible  \\\n",
       "0       JEEP           JEEP  LIVIANO  17990.0        1497         GASOLINA   \n",
       "1  AUTOMOVIL  STATION WAGON  LIVIANO  10990.0         997         GASOLINA   \n",
       "3  AUTOMOVIL          SEDAN  LIVIANO  15990.0        1206         GASOLINA   \n",
       "4       JEEP           JEEP  LIVIANO  27990.0        1995         GASOLINA   \n",
       "6  CAMIONETA   DOBLE CABINA  LIVIANO  29990.0        2999           DIESEL   \n",
       "\n",
       "  color  \n",
       "0   PLO  \n",
       "1   AZU  \n",
       "3   PLO  \n",
       "4   PLO  \n",
       "6   BLA  "
      ]
     },
     "execution_count": 11,
     "metadata": {},
     "output_type": "execute_result"
    }
   ],
   "source": [
    "# 📌 Mostrar vista previa de los datos limpios\n",
    "df_.head()"
   ]
  }
 ],
 "metadata": {
  "kernelspec": {
   "display_name": "Python 3",
   "language": "python",
   "name": "python3"
  },
  "language_info": {
   "codemirror_mode": {
    "name": "ipython",
    "version": 3
   },
   "file_extension": ".py",
   "mimetype": "text/x-python",
   "name": "python",
   "nbconvert_exporter": "python",
   "pygments_lexer": "ipython3",
   "version": "3.12.3"
  }
 },
 "nbformat": 4,
 "nbformat_minor": 2
}
