{
 "cells": [
  {
   "cell_type": "code",
   "execution_count": 1,
   "metadata": {},
   "outputs": [],
   "source": [
    "# Importar librerías necesarias\n",
    "import pandas as pd\n",
    "import re\n",
    "import os"
   ]
  },
  {
   "cell_type": "code",
   "execution_count": 2,
   "metadata": {},
   "outputs": [],
   "source": [
    "# 📌 Definir la ruta del archivo 2017\n",
    "data_folder = \"../data/raw/\"  # Carpeta donde están los CSV\n",
    "file_ = \"SRI_Vehiculos_Nuevos_2023.csv\"\n",
    "file_path = os.path.join(data_folder, file_)\n"
   ]
  },
  {
   "cell_type": "code",
   "execution_count": 3,
   "metadata": {},
   "outputs": [],
   "source": [
    "# 📌 Intentar leer el archivo con diferentes codificaciones\n",
    "try:\n",
    "    df_ = pd.read_csv(file_path, delimiter=';', encoding=\"latin-1\", on_bad_lines='skip', low_memory=False)\n",
    "except UnicodeDecodeError:\n",
    "    df_ = pd.read_csv(file_path, delimiter=';', encoding=\"ISO-8859-1\", on_bad_lines='skip', low_memory=False)\n",
    "\n"
   ]
  },
  {
   "cell_type": "code",
   "execution_count": 4,
   "metadata": {},
   "outputs": [
    {
     "name": "stdout",
     "output_type": "stream",
     "text": [
      "📌 Columnas en el dataset de 2020:\n",
      "Index(['CATEGORÍA', 'CÓDIGO DE VEHÍCULO', 'TIPO TRANSACCIÓN', 'MARCA',\n",
      "       'MODELO', 'PAÍS', 'AÑO MODELO', 'CLASE', 'SUB CLASE', 'TIPO', 'AVALÚO',\n",
      "       'FECHA PROCESO (DD/MM/AA)', 'TIPO SERVICIO', 'CILINDRAJE',\n",
      "       'TIPO COMBUSTIBLE', 'FECHA COMPRA (DD/MM/AA)', 'CANTÓN', 'COLOR 1',\n",
      "       'COLOR 2', 'PERSONA NATURAL - JURÍDICA', 'Unnamed: 20'],\n",
      "      dtype='object')\n"
     ]
    }
   ],
   "source": [
    "# 📌 Mostrar las columnas disponibles en el dataset de 2017\n",
    "print(\"📌 Columnas en el dataset de 2020:\")\n",
    "print(df_.columns)"
   ]
  },
  {
   "cell_type": "code",
   "execution_count": 5,
   "metadata": {},
   "outputs": [],
   "source": [
    "# 📌 Renombrar columnas para que coincidan con el formato de 2024\n",
    "column_mappings_ = {\n",
    "    \"MARCA\": \"marca\",\n",
    "    \"MODELO\": \"modelo\",\n",
    "    \"PAIS\": \"pais\",\n",
    "    \"AÑO MODELO\": \"year_modelo\",\n",
    "    \"CLASE\": \"clase\",\n",
    "    \"SUB CLASE\": \"sub_clase\",\n",
    "    \"TIPO\": \"tipo\",\n",
    "    \"AVALÚO\": \"avaluo\",\n",
    "    \"CILINDRAJE\": \"cilindraje\",\n",
    "    \"TIPO COMBUSTIBLE\": \"tipo_combustible\",\n",
    "    \"COLOR 1\": \"color\",\n",
    "}\n",
    "\n",
    "df_.rename(columns=column_mappings_, inplace=True)"
   ]
  },
  {
   "cell_type": "code",
   "execution_count": 6,
   "metadata": {},
   "outputs": [],
   "source": [
    "# 📌 Seleccionar solo las columnas necesarias\n",
    "columnas_necesarias = ['marca', 'modelo', 'pais', 'year_modelo', 'clase', 'sub_clase', \n",
    "                        'tipo', 'avaluo', 'cilindraje', 'tipo_combustible', 'color']\n"
   ]
  },
  {
   "cell_type": "code",
   "execution_count": 7,
   "metadata": {},
   "outputs": [],
   "source": [
    "# 📌 Filtrar las columnas que existen en el dataset\n",
    "columnas_existentes = [col for col in columnas_necesarias if col in df_.columns]\n",
    "df_ = df_[columnas_existentes].copy()"
   ]
  },
  {
   "cell_type": "code",
   "execution_count": 8,
   "metadata": {},
   "outputs": [],
   "source": [
    "# 📌 Eliminar duplicados basados en \"modelo\", \"year\", \"avaluo\", \"cilindraje\"\n",
    "df_.drop_duplicates(subset=[\"modelo\", \"year_modelo\", \"avaluo\", \"cilindraje\"], keep=\"first\", inplace=True)\n"
   ]
  },
  {
   "cell_type": "code",
   "execution_count": 9,
   "metadata": {},
   "outputs": [],
   "source": [
    "# 📌 Guardar el dataset limpio\n",
    "output_path = \"../data/processed/SRI_Vehiculos_Nuevos_2023_Limpio.csv\"\n",
    "os.makedirs(\"../data/processed/\", exist_ok=True)\n",
    "df_.to_csv(output_path, index=False, sep=';')"
   ]
  },
  {
   "cell_type": "code",
   "execution_count": 10,
   "metadata": {},
   "outputs": [
    {
     "data": {
      "text/html": [
       "<div>\n",
       "<style scoped>\n",
       "    .dataframe tbody tr th:only-of-type {\n",
       "        vertical-align: middle;\n",
       "    }\n",
       "\n",
       "    .dataframe tbody tr th {\n",
       "        vertical-align: top;\n",
       "    }\n",
       "\n",
       "    .dataframe thead th {\n",
       "        text-align: right;\n",
       "    }\n",
       "</style>\n",
       "<table border=\"1\" class=\"dataframe\">\n",
       "  <thead>\n",
       "    <tr style=\"text-align: right;\">\n",
       "      <th></th>\n",
       "      <th>marca</th>\n",
       "      <th>modelo</th>\n",
       "      <th>year_modelo</th>\n",
       "      <th>clase</th>\n",
       "      <th>sub_clase</th>\n",
       "      <th>tipo</th>\n",
       "      <th>avaluo</th>\n",
       "      <th>cilindraje</th>\n",
       "      <th>tipo_combustible</th>\n",
       "      <th>color</th>\n",
       "    </tr>\n",
       "  </thead>\n",
       "  <tbody>\n",
       "    <tr>\n",
       "      <th>0</th>\n",
       "      <td>JAC</td>\n",
       "      <td>HFC1050KN 3.9 2P 4X2 TM DIESEL</td>\n",
       "      <td>2024</td>\n",
       "      <td>CAMION</td>\n",
       "      <td>FURGON-C</td>\n",
       "      <td>PESADO</td>\n",
       "      <td>26290</td>\n",
       "      <td>3900</td>\n",
       "      <td>DIESEL</td>\n",
       "      <td>BLA</td>\n",
       "    </tr>\n",
       "    <tr>\n",
       "      <th>1</th>\n",
       "      <td>RANGER</td>\n",
       "      <td>250GY-50</td>\n",
       "      <td>2024</td>\n",
       "      <td>MOTOCICLETA</td>\n",
       "      <td>PASEO</td>\n",
       "      <td>LIVIANO</td>\n",
       "      <td>1430,83</td>\n",
       "      <td>250</td>\n",
       "      <td>GASOLINA</td>\n",
       "      <td>AZU</td>\n",
       "    </tr>\n",
       "    <tr>\n",
       "      <th>8</th>\n",
       "      <td>JAC</td>\n",
       "      <td>HFC1160KR1T AC 6.7 2P 4X2 TM DIESEL RECOLECTOR</td>\n",
       "      <td>2024</td>\n",
       "      <td>ESPECIAL</td>\n",
       "      <td>RECOLECTOR</td>\n",
       "      <td>PESADO</td>\n",
       "      <td>62390</td>\n",
       "      <td>6700</td>\n",
       "      <td>DIESEL</td>\n",
       "      <td>BLA</td>\n",
       "    </tr>\n",
       "    <tr>\n",
       "      <th>10</th>\n",
       "      <td>QINGLING</td>\n",
       "      <td>NKR M100 QL1049A5HAY AC 3.0 2P 4X2 TM DIESEL</td>\n",
       "      <td>2024</td>\n",
       "      <td>CAMION</td>\n",
       "      <td>FURGON-C</td>\n",
       "      <td>PESADO</td>\n",
       "      <td>26790</td>\n",
       "      <td>2999</td>\n",
       "      <td>DIESEL</td>\n",
       "      <td>BLA</td>\n",
       "    </tr>\n",
       "    <tr>\n",
       "      <th>11</th>\n",
       "      <td>HINO</td>\n",
       "      <td>AK8JRSA 7.7 4X2 TM DIESEL</td>\n",
       "      <td>2024</td>\n",
       "      <td>OMNIBUS</td>\n",
       "      <td>BUS</td>\n",
       "      <td>PESADO</td>\n",
       "      <td>173490</td>\n",
       "      <td>7684</td>\n",
       "      <td>DIESEL</td>\n",
       "      <td>BLA</td>\n",
       "    </tr>\n",
       "  </tbody>\n",
       "</table>\n",
       "</div>"
      ],
      "text/plain": [
       "       marca                                          modelo  year_modelo  \\\n",
       "0        JAC                  HFC1050KN 3.9 2P 4X2 TM DIESEL         2024   \n",
       "1     RANGER                                        250GY-50         2024   \n",
       "8        JAC  HFC1160KR1T AC 6.7 2P 4X2 TM DIESEL RECOLECTOR         2024   \n",
       "10  QINGLING    NKR M100 QL1049A5HAY AC 3.0 2P 4X2 TM DIESEL         2024   \n",
       "11      HINO                       AK8JRSA 7.7 4X2 TM DIESEL         2024   \n",
       "\n",
       "          clase   sub_clase     tipo   avaluo  cilindraje tipo_combustible  \\\n",
       "0        CAMION    FURGON-C   PESADO    26290        3900           DIESEL   \n",
       "1   MOTOCICLETA       PASEO  LIVIANO  1430,83         250         GASOLINA   \n",
       "8      ESPECIAL  RECOLECTOR   PESADO    62390        6700           DIESEL   \n",
       "10       CAMION    FURGON-C   PESADO    26790        2999           DIESEL   \n",
       "11      OMNIBUS         BUS   PESADO   173490        7684           DIESEL   \n",
       "\n",
       "   color  \n",
       "0    BLA  \n",
       "1    AZU  \n",
       "8    BLA  \n",
       "10   BLA  \n",
       "11   BLA  "
      ]
     },
     "execution_count": 10,
     "metadata": {},
     "output_type": "execute_result"
    }
   ],
   "source": [
    "# 📌 Mostrar vista previa de los datos limpios\n",
    "df_.head()"
   ]
  }
 ],
 "metadata": {
  "kernelspec": {
   "display_name": "Python 3",
   "language": "python",
   "name": "python3"
  },
  "language_info": {
   "codemirror_mode": {
    "name": "ipython",
    "version": 3
   },
   "file_extension": ".py",
   "mimetype": "text/x-python",
   "name": "python",
   "nbconvert_exporter": "python",
   "pygments_lexer": "ipython3",
   "version": "3.12.3"
  }
 },
 "nbformat": 4,
 "nbformat_minor": 2
}
